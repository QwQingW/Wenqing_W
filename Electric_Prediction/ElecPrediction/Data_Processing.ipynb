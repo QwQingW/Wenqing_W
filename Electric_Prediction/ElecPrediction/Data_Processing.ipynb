{
 "cells": [
  {
   "cell_type": "code",
   "id": "initial_id",
   "metadata": {
    "collapsed": true,
    "ExecuteTime": {
     "end_time": "2025-07-08T09:06:43.009053Z",
     "start_time": "2025-07-08T09:06:43.000536Z"
    }
   },
   "source": [
    "import pandas as pd\n",
    "import numpy as np\n",
    "from datetime import datetime, timedelta"
   ],
   "outputs": [],
   "execution_count": 38
  },
  {
   "metadata": {
    "ExecuteTime": {
     "end_time": "2025-07-08T09:14:14.377253Z",
     "start_time": "2025-07-08T09:14:12.918709Z"
    }
   },
   "cell_type": "code",
   "source": [
    "# df = pd.read_csv(\"train.csv\")\n",
    "# print(df.head())\n",
    "df = pd.read_csv(\"train.csv\", skipinitialspace=True, sep=',', na_values='?', \n",
    "                 parse_dates=['DateTime'], infer_datetime_format=True, \n",
    "                 low_memory=False)\n",
    "\n",
    "df['DateTime'] = pd.to_datetime(df['DateTime'], errors='coerce') \n",
    "df = df.set_index('DateTime')  # 设置为索引\n",
    "\n",
    "# 将数值列转换为 float\n",
    "cols_to_float = ['Global_active_power', 'Global_reactive_power', 'Voltage', \n",
    "                 'Global_intensity', 'Sub_metering_1', 'Sub_metering_2', 'Sub_metering_3']\n",
    "df[cols_to_float] = df[cols_to_float].astype('float32')\n",
    "print(df.columns.tolist())\n",
    "\n",
    "weather_cols = ['RR','NBJRR1','NBJRR5','NBJRR10','NBJBROU']\n",
    "df[weather_cols] = df[weather_cols].apply(pd.to_numeric, errors='coerce')\n"
   ],
   "id": "99b823833950515",
   "outputs": [
    {
     "name": "stderr",
     "output_type": "stream",
     "text": [
      "C:\\Users\\18442\\AppData\\Local\\Temp\\ipykernel_37176\\1736910310.py:4: FutureWarning: The argument 'infer_datetime_format' is deprecated and will be removed in a future version. A strict version of it is now the default, see https://pandas.pydata.org/pdeps/0004-consistent-to-datetime-parsing.html. You can safely remove this argument.\n",
      "  df = pd.read_csv(\"train.csv\", skipinitialspace=True, sep=',', na_values='?',\n"
     ]
    },
    {
     "name": "stdout",
     "output_type": "stream",
     "text": [
      "['Global_active_power', 'Global_reactive_power', 'Voltage', 'Global_intensity', 'Sub_metering_1', 'Sub_metering_2', 'Sub_metering_3', 'RR', 'NBJRR1', 'NBJRR5', 'NBJRR10', 'NBJBROU']\n"
     ]
    }
   ],
   "execution_count": 42
  },
  {
   "metadata": {
    "ExecuteTime": {
     "end_time": "2025-07-08T09:06:50.096061Z",
     "start_time": "2025-07-08T09:06:44.483728Z"
    }
   },
   "cell_type": "code",
   "source": [
    "def fill_missing_values(df):\n",
    "    filled = pd.DataFrame(index=df.index)\n",
    "\n",
    "    for col in df.columns:\n",
    "        daily_missing = df[col].isna().resample('D').sum()\n",
    "\n",
    "        filled[col] = df[col]\n",
    "\n",
    "        for date, missing_count in daily_missing.items():\n",
    "            day_slice = df.loc[date:date + pd.Timedelta(days=1) - pd.Timedelta(minutes=1)]\n",
    "\n",
    "            if missing_count >= 720:\n",
    "                # 用过去同一天平均值填补\n",
    "                same_day_mask = (df.index.month == date.month) & (df.index.day == date.day)\n",
    "                reference_values = df.loc[same_day_mask, col].dropna()\n",
    "                day_mean = reference_values.mean() if not reference_values.empty else 0\n",
    "                filled.loc[day_slice.index, col] = day_mean\n",
    "            else:\n",
    "                # 同一天内线性插值\n",
    "                filled.loc[day_slice.index, col] = day_slice[col].interpolate(method='linear')\n",
    "\n",
    "    return filled\n",
    "\n",
    "df = fill_missing_values(df)"
   ],
   "id": "2817e85ed8467add",
   "outputs": [],
   "execution_count": 40
  },
  {
   "metadata": {
    "ExecuteTime": {
     "end_time": "2025-07-08T09:15:03.528546Z",
     "start_time": "2025-07-08T09:15:03.348647Z"
    }
   },
   "cell_type": "code",
   "source": [
    "df['sub_metering_remainder'] = (df['Global_active_power'] * 1000 / 60) - (\n",
    "    df['Sub_metering_1'] + df['Sub_metering_2'] + df['Sub_metering_3'])\n",
    "\n",
    "\n",
    "df.columns = [c.lower() for c in df.columns]\n",
    "\n",
    "daily_df = pd.DataFrame()\n",
    "daily_df['global_active_power'] = df['global_active_power'].resample('D').sum()\n",
    "daily_df['global_reactive_power'] = df['global_reactive_power'].resample('D').sum()\n",
    "daily_df['sub_metering_1'] = df['sub_metering_1'].resample('D').sum()\n",
    "daily_df['sub_metering_2'] = df['sub_metering_2'].resample('D').sum()\n",
    "daily_df['sub_metering_3'] = df['sub_metering_3'].resample('D').sum()\n",
    "daily_df['sub_metering_remainder'] = df['sub_metering_remainder'].resample('D').sum()\n",
    "daily_df['voltage'] = df['voltage'].resample('D').mean()\n",
    "daily_df['global_intensity'] = df['global_intensity'].resample('D').mean()\n",
    "daily_df['rr'] = df['rr'].resample('D').first() / 10.0\n",
    "daily_df['nbjrr1'] = df['nbjrr1'].resample('D').first()\n",
    "daily_df['nbjrr5'] = df['nbjrr5'].resample('D').first()\n",
    "daily_df['nbjrr10'] = df['nbjrr10'].resample('D').first()\n",
    "daily_df['nbjbrou'] = df['nbjbrou'].resample('D').first()"
   ],
   "id": "4aa4fe1d55557430",
   "outputs": [],
   "execution_count": 43
  },
  {
   "metadata": {
    "ExecuteTime": {
     "end_time": "2025-07-08T09:15:06.076390Z",
     "start_time": "2025-07-08T09:15:06.055678Z"
    }
   },
   "cell_type": "code",
   "source": "daily_df.to_csv(\"Processed_train.csv\")",
   "id": "7fa780ff8e9f9a83",
   "outputs": [],
   "execution_count": 44
  },
  {
   "metadata": {
    "ExecuteTime": {
     "end_time": "2025-07-08T09:29:25.698896Z",
     "start_time": "2025-07-08T09:29:24.802322Z"
    }
   },
   "cell_type": "code",
   "source": [
    "column_names = [\n",
    "    \"DateTime\", \"Global_active_power\", \"Global_reactive_power\", \"Voltage\",\n",
    "    \"Global_intensity\", \"Sub_metering_1\", \"Sub_metering_2\", \"Sub_metering_3\",\n",
    "    \"RR\", \"NBJRR1\", \"NBJRR5\", \"NBJRR10\", \"NBJBROU\"\n",
    "]\n",
    "test_df = pd.read_csv(\"test.csv\", header=None, names=column_names, na_values='?', skipinitialspace=True)\n",
    "\n",
    "test_df['DateTime'] = pd.to_datetime(test_df['DateTime'], errors='coerce')\n",
    "test_df = test_df.set_index('DateTime')\n",
    "\n",
    "test_df.columns = test_df.columns.str.strip().str.lower()\n",
    "test_df = test_df.astype('float32')\n",
    "\n",
    "weather_cols = ['rr', 'nbjrr1', 'nbjrr5', 'nbjrr10', 'nbjbrou']\n",
    "test_df[weather_cols] = test_df[weather_cols].apply(pd.to_numeric, errors='coerce')"
   ],
   "id": "91a69d4217aa3bba",
   "outputs": [],
   "execution_count": 49
  },
  {
   "metadata": {
    "ExecuteTime": {
     "end_time": "2025-07-08T09:29:27.458018Z",
     "start_time": "2025-07-08T09:29:27.289932Z"
    }
   },
   "cell_type": "code",
   "source": [
    "\n",
    "test_df['sub_metering_remainder'] = (test_df['global_active_power'] * 1000 / 60) - (\n",
    "    test_df['sub_metering_1'] + test_df['sub_metering_2'] + test_df['sub_metering_3'])\n",
    "\n",
    "test_daily_df = pd.DataFrame()\n",
    "test_daily_df['global_active_power'] = test_df['global_active_power'].resample('D').sum()\n",
    "test_daily_df['global_reactive_power'] = test_df['global_reactive_power'].resample('D').sum()\n",
    "test_daily_df['sub_metering_1'] = test_df['sub_metering_1'].resample('D').sum()\n",
    "test_daily_df['sub_metering_2'] = test_df['sub_metering_2'].resample('D').sum()\n",
    "test_daily_df['sub_metering_3'] = test_df['sub_metering_3'].resample('D').sum()\n",
    "test_daily_df['sub_metering_remainder'] = test_df['sub_metering_remainder'].resample('D').sum()\n",
    "test_daily_df['voltage'] = test_df['voltage'].resample('D').mean()\n",
    "test_daily_df['global_intensity'] = test_df['global_intensity'].resample('D').mean()\n",
    "test_daily_df['rr'] = test_df['rr'].resample('D').first() / 10.0\n",
    "test_daily_df['nbjrr1'] = test_df['nbjrr1'].resample('D').first()\n",
    "test_daily_df['nbjrr5'] = test_df['nbjrr5'].resample('D').first()\n",
    "test_daily_df['nbjrr10'] = test_df['nbjrr10'].resample('D').first()\n",
    "test_daily_df['nbjbrou'] = test_df['nbjbrou'].resample('D').first()\n"
   ],
   "id": "5b5a607a220fb2df",
   "outputs": [],
   "execution_count": 50
  },
  {
   "metadata": {
    "ExecuteTime": {
     "end_time": "2025-07-08T09:29:29.821550Z",
     "start_time": "2025-07-08T09:29:29.812964Z"
    }
   },
   "cell_type": "code",
   "source": "test_daily_df.to_csv(\"Processed_test.csv\")",
   "id": "d830138ad3e14b3b",
   "outputs": [],
   "execution_count": 51
  }
 ],
 "metadata": {
  "kernelspec": {
   "display_name": "Python 3",
   "language": "python",
   "name": "python3"
  },
  "language_info": {
   "codemirror_mode": {
    "name": "ipython",
    "version": 2
   },
   "file_extension": ".py",
   "mimetype": "text/x-python",
   "name": "python",
   "nbconvert_exporter": "python",
   "pygments_lexer": "ipython2",
   "version": "2.7.6"
  }
 },
 "nbformat": 4,
 "nbformat_minor": 5
}
